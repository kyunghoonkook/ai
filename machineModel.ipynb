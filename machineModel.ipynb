{
  "nbformat": 4,
  "nbformat_minor": 0,
  "metadata": {
    "colab": {
      "provenance": [],
      "authorship_tag": "ABX9TyMVOKPgI/+0UdTAZY3BXL9F",
      "include_colab_link": true
    },
    "kernelspec": {
      "name": "python3",
      "display_name": "Python 3"
    },
    "language_info": {
      "name": "python"
    }
  },
  "cells": [
    {
      "cell_type": "markdown",
      "metadata": {
        "id": "view-in-github",
        "colab_type": "text"
      },
      "source": [
        "<a href=\"https://colab.research.google.com/github/kyunghoonkook/ai/blob/main/machineModel.ipynb\" target=\"_parent\"><img src=\"https://colab.research.google.com/assets/colab-badge.svg\" alt=\"Open In Colab\"/></a>"
      ]
    },
    {
      "cell_type": "code",
      "execution_count": 1,
      "metadata": {
        "colab": {
          "base_uri": "https://localhost:8080/"
        },
        "id": "OKdMtN1hSCbm",
        "outputId": "3a44f8c7-423b-4d37-a78c-c38a049e06c2"
      },
      "outputs": [
        {
          "output_type": "stream",
          "name": "stdout",
          "text": [
            "              precision    recall  f1-score   support\n",
            "\n",
            "           0       0.50      0.76      0.60    249829\n",
            "           1       0.50      0.24      0.33    250171\n",
            "\n",
            "    accuracy                           0.50    500000\n",
            "   macro avg       0.50      0.50      0.46    500000\n",
            "weighted avg       0.50      0.50      0.46    500000\n",
            "\n"
          ]
        }
      ],
      "source": [
        "from sklearn.model_selection import train_test_split\n",
        "from sklearn.linear_model import LogisticRegression\n",
        "from sklearn.metrics import classification_report\n",
        "import pandas as pd\n",
        "import numpy as np\n",
        "\n",
        "\n",
        "ages = np.random.randint(20, 81, size=1000000)\n",
        "\n",
        "hr = np.random.randint(60, 180, size=1000000)\n",
        "\n",
        "rr = np.random.randint(5, 30, size=1000000)\n",
        "\n",
        "temp = np.random.randint(33, 40, size=1000000)\n",
        "\n",
        "spo2 = np.random.randint(90,99 , size=1000000)\n",
        "\n",
        "symptom_severities = np.random.uniform(1.0, 5.0, size=1000000)\n",
        "\n",
        "treatment_successes = np.random.choice([0, 1], size=1000000)\n",
        "\n",
        "data = {\n",
        "    'age': ages,\n",
        "    'hr':hr,\n",
        "    'rr':rr,\n",
        "    'temp':temp,\n",
        "    'spo2':spo2,\n",
        "    'symptom_severity': symptom_severities,\n",
        "    'treatment_success': treatment_successes,\n",
        "}\n",
        "\n",
        "df = pd.DataFrame(data)\n",
        "\n",
        "X = df[['age', 'symptom_severity','hr','rr','temp','spo2']]\n",
        "y = df['treatment_success']\n",
        "\n",
        "X_train,X_test,y_train,y_test=train_test_split(X,y,test_size=0.5)\n",
        "\n",
        "model=LogisticRegression()\n",
        "model.fit(X_train,y_train)\n",
        "\n",
        "predictions=model.predict(X_test)\n",
        "print(classification_report(y_test,predictions))\n"
      ]
    },
    {
      "cell_type": "code",
      "source": [
        "with open('/content/sample_data/2312011.xws', 'r') as f:\n",
        "    print(f.read())"
      ],
      "metadata": {
        "colab": {
          "base_uri": "https://localhost:8080/"
        },
        "id": "GV2iW251q7x8",
        "outputId": "46accbc6-1392-4b1c-a55b-6a4d6294f44c"
      },
      "execution_count": 10,
      "outputs": [
        {
          "output_type": "stream",
          "name": "stdout",
          "text": [
            "-r 231\n",
            "-a atr\n",
            "-f 20:11\n",
            "-p http://<!--#echo var=\"SERVER_NAME\" -->/physiobank/database/mitdb/\n",
            "\n"
          ]
        }
      ]
    },
    {
      "cell_type": "code",
      "source": [
        "import pandas as pd\n",
        "import os\n",
        "\n",
        "data = []\n",
        "\n",
        "directory = '/content/xws'\n",
        "\n",
        "for filename in os.listdir(directory):\n",
        "    if filename.endswith('.xws'):\n",
        "        with open(os.path.join(directory, filename), 'r') as f:\n",
        "            info = {}\n",
        "            for line in f:\n",
        "                key, value = line.strip().split(' ', 1)\n",
        "                info[key] = value\n",
        "\n",
        "            data.append(info)\n",
        "\n",
        "df = pd.DataFrame(data)\n",
        "df.to_csv('output.csv', index=False)"
      ],
      "metadata": {
        "id": "YdoadoW0spXW"
      },
      "execution_count": 11,
      "outputs": []
    },
    {
      "cell_type": "code",
      "source": [
        "import pandas as pd\n",
        "from sklearn.model_selection import train_test_split\n",
        "from sklearn.linear_model import LogisticRegression\n",
        "from sklearn.metrics import classification_report\n",
        "\n",
        "df = pd.read_csv('/content/output.csv')\n",
        "\n",
        "df['-f'] = df['-f'].apply(lambda x : int(x.split(':')[0])*60 + int(x.split(':')[1]))\n",
        "\n",
        "y = df['-r']\n",
        "\n",
        "X = df.drop(['-p', '-a', '-r'], axis=1)\n",
        "\n",
        "X_train,X_test,y_train,y_test=train_test_split(X,y,test_size=0.5)\n",
        "\n",
        "model=LogisticRegression(C=100)\n",
        "model.fit(X_train,y_train)\n",
        "predictions=model.predict(X_test)\n",
        "print(classification_report(y_test,predictions))"
      ],
      "metadata": {
        "colab": {
          "base_uri": "https://localhost:8080/"
        },
        "id": "pjZuGzmhs54N",
        "outputId": "bba071c2-8f1a-4aaf-eb4c-727fb6eca686"
      },
      "execution_count": 21,
      "outputs": [
        {
          "output_type": "stream",
          "name": "stdout",
          "text": [
            "              precision    recall  f1-score   support\n",
            "\n",
            "         100       0.00      0.00      0.00         2\n",
            "         101       0.00      0.00      0.00         2\n",
            "         102       0.00      0.00      0.00         3\n",
            "         103       0.00      0.00      0.00         4\n",
            "         104       0.00      0.00      0.00         5\n",
            "         105       0.00      0.00      0.00         3\n",
            "         106       0.00      0.00      0.00         6\n",
            "         107       0.00      0.00      0.00         2\n",
            "         108       0.00      0.00      0.00         6\n",
            "         109       0.00      0.00      0.00         7\n",
            "         111       0.00      0.00      0.00         5\n",
            "         113       0.00      0.00      0.00         2\n",
            "         114       0.00      0.00      0.00         3\n",
            "         115       0.00      0.00      0.00         4\n",
            "         116       0.00      0.00      0.00         2\n",
            "         117       0.00      0.00      0.00         2\n",
            "         118       0.01      0.50      0.02         2\n",
            "         119       0.00      0.00      0.00         3\n",
            "         121       0.00      0.00      0.00         4\n",
            "         122       0.00      0.00      0.00         1\n",
            "         123       0.00      0.00      0.00         2\n",
            "         124       0.00      0.00      0.00         7\n",
            "         200       0.00      0.00      0.00         5\n",
            "         201       0.00      0.00      0.00         9\n",
            "         202       0.00      0.00      0.00         5\n",
            "         203       0.00      0.00      0.00         7\n",
            "         205       0.00      0.00      0.00         4\n",
            "         207       0.03      0.60      0.06         5\n",
            "         208       0.00      0.00      0.00         3\n",
            "         209       0.00      0.00      0.00         4\n",
            "         210       0.00      0.00      0.00         1\n",
            "         212       0.00      0.00      0.00         2\n",
            "         213       0.00      0.00      0.00         8\n",
            "         214       0.00      0.00      0.00         7\n",
            "         215       0.00      0.00      0.00         5\n",
            "         217       0.00      0.00      0.00         5\n",
            "         219       0.00      0.00      0.00         5\n",
            "         220       0.00      0.00      0.00         4\n",
            "         221       0.00      0.00      0.00         3\n",
            "         222       0.00      0.00      0.00         4\n",
            "         223       0.00      0.00      0.00         5\n",
            "         228       0.00      0.00      0.00         3\n",
            "         230       0.00      0.00      0.00         3\n",
            "         231       0.00      0.00      0.00         3\n",
            "         232       0.00      0.00      0.00         9\n",
            "         233       0.00      0.00      0.00         5\n",
            "         234       0.00      0.00      0.00         5\n",
            "\n",
            "    accuracy                           0.02       196\n",
            "   macro avg       0.00      0.02      0.00       196\n",
            "weighted avg       0.00      0.02      0.00       196\n",
            "\n"
          ]
        },
        {
          "output_type": "stream",
          "name": "stderr",
          "text": [
            "/usr/local/lib/python3.10/dist-packages/sklearn/linear_model/_logistic.py:458: ConvergenceWarning: lbfgs failed to converge (status=1):\n",
            "STOP: TOTAL NO. of ITERATIONS REACHED LIMIT.\n",
            "\n",
            "Increase the number of iterations (max_iter) or scale the data as shown in:\n",
            "    https://scikit-learn.org/stable/modules/preprocessing.html\n",
            "Please also refer to the documentation for alternative solver options:\n",
            "    https://scikit-learn.org/stable/modules/linear_model.html#logistic-regression\n",
            "  n_iter_i = _check_optimize_result(\n",
            "/usr/local/lib/python3.10/dist-packages/sklearn/metrics/_classification.py:1344: UndefinedMetricWarning: Precision and F-score are ill-defined and being set to 0.0 in labels with no predicted samples. Use `zero_division` parameter to control this behavior.\n",
            "  _warn_prf(average, modifier, msg_start, len(result))\n",
            "/usr/local/lib/python3.10/dist-packages/sklearn/metrics/_classification.py:1344: UndefinedMetricWarning: Precision and F-score are ill-defined and being set to 0.0 in labels with no predicted samples. Use `zero_division` parameter to control this behavior.\n",
            "  _warn_prf(average, modifier, msg_start, len(result))\n",
            "/usr/local/lib/python3.10/dist-packages/sklearn/metrics/_classification.py:1344: UndefinedMetricWarning: Precision and F-score are ill-defined and being set to 0.0 in labels with no predicted samples. Use `zero_division` parameter to control this behavior.\n",
            "  _warn_prf(average, modifier, msg_start, len(result))\n"
          ]
        }
      ]
    }
  ]
}